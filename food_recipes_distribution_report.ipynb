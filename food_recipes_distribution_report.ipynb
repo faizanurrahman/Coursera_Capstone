{
 "cells": [
  {
   "cell_type": "markdown",
   "metadata": {
    "colab_type": "text",
    "id": "csADFPFYVElP"
   },
   "source": [
    "# Food recipes distribution system for venues"
   ]
  },
  {
   "cell_type": "markdown",
   "metadata": {},
   "source": [
    "## Part 1: Problem Description\n",
    "##### There is a Food recipes distributer in one of the boroughs of Toronto (Scarborough). This distributer provides services for different venues  such as: Different types of Restaurants, Bakery, Breakfast Spot, newly started food center and Café with fresh and high-quality recipes. The distributer  wants to build a warehouse for the recipes it buys from villagers and farmers inside the borough, so that they will support more customers and also bring better \"Quality of Service\" to the old customers. \n",
    "##### For example, if the warehouse is close to those old and famous restaurants, then the vegetables and other recipes would be delivered to the restaurant in the right time and there would be no delay so the restaurant cooks can start their job from the morning and the Quality of Service will be high and this distributer will gain more reputation and income.\n",
    "##### The distributer should build this warehouse where it is closest to its customers in order to minimize the cost of transpotation in addition to the example above. which neighborhood (in that borough) would be a better choice for the distributer to build the warehouse in that neighborhood. Finding the right neighborhood is our mission and our distribution system will provide this distributor with a sorted list of neighborhoods in which the first elemnt of the list will be the best suggested neighborhood."
   ]
  },
  {
   "cell_type": "markdown",
   "metadata": {},
   "source": [
    "## Part 2: Data Requirement\n",
    "##### 1- We will need geo-locational information about that specific borough and the neighborhoods in that borough. We specifically and technically mean the latitude and longitude numbers of that borough. We assume that it is \"Scarborough\" in Toronto. This is easily provided for us by the distributor, because the distributor has already made up his mind about the borough. The Postal Codes that fall into that borough (Scarborough) would also be sufficient fo us. I fact we will first find neighborhoods inside Scarborough by their corresponding Postal Codes.\n",
    "\n",
    "##### 2- We will need data about different venues in different neighborhoods of that specific borough. In order to gain that information we will use \"Foursquare\" locational information. By locational information for each venue we mean basic and advanced information about that venue. For example there is a venue in one of the neighborhoods. As basic information, we can obtain its precise latitude and longitude and also its distance from the center of the neighborhood. But we are looking for advanced information such as the category of that venue and whether this venue is a popular one in its category or maybe the average price of the services of this venue. A typical request from Foursquare will provide us with  the following information:\n",
    "-  Postal Code\n",
    "-  Neighborhood(s)\n",
    "-  Neighborhood Latitude\n",
    "-  Neighborhood Longitude\n",
    "-  Venue\n",
    "-  Venue Summary\n",
    "-  Venue Category"
   ]
  },
  {
   "cell_type": "markdown",
   "metadata": {},
   "source": [
    "# Problem solving approaches.\n",
    "### Part 1: Identifying Neighborhoods inside \"Scarborough\"\n",
    "##### We will use Postal Codes of different regions inside Scarborough to find the list of neighborhoods. We will essentially obtain our information from <https://en.wikipedia.org/wiki/List_of_postal_codes_of_Canada:_M> and then process the table inside this site. Images from dataframes and also from maps will be provided in the presentation. Here we only present our strategy and how we got the mission accomplished. "
   ]
  },
  {
   "cell_type": "markdown",
   "metadata": {},
   "source": [
    "### Part 2: Connecting to Foursquare and Retrieving Locational Data \n",
    "#### for Each Venue in Every Neighborhood \n",
    "##### After finding the list of neighborhoods, we then connect to the Foursquare API to gather information about venues inside each and every neighborhood. For each neighborhood, we have chosen the radius to be 500 meter. It means that we have asked Foursquare to find venues that are at most 500 meter far from the center of the neighborhood."
   ]
  },
  {
   "cell_type": "markdown",
   "metadata": {},
   "source": [
    "### Part 3: Processing the Retrieved Data and Creating a DataFrome for All the Venues inside the Scarborough\n",
    "##### When the data is completely gathered, we will perform processing on that raw data to find our desirable features for each venue. Our main feature is the category of that venue. After this stage, the column \"Venue's Category\" wil be One-hot encoded and different venues will have different feature-columns. After On-hot encoding we will integrate all restaurant columns to one column \"Total Restaurants\" and all food joint columns to \"Total Joints\" column. We assumed that different resaturants use the Same raw groceries. This assumption is made for simplicity and due to not having a very detailed dataset about different venues. \n",
    "#### Now, the dataset is fully ready to be used for machine learning (and statistical analysis) purposes."
   ]
  },
  {
   "cell_type": "markdown",
   "metadata": {},
   "source": [
    "### Part 4: Applying one of Machine Learning Techniques (K-Means Clustering)\n",
    "##### Here we cluster neighborhoods via K-means clustering method. We think that 5 clusters is enough and can cover the complexity of our problem. After clustering we will update our dataset and create a column representing the group for each neighborhood. "
   ]
  },
  {
   "cell_type": "markdown",
   "metadata": {},
   "source": [
    "### Decision Making and Reporting Results\n",
    "##### Now, we focus on the centers of clusters and compare them for their \"Total Restaurants\" and their \"Total Joints\". The group which its center has the highest \"Total Sum\" will be our best recommendation to the contractor. {Note: Total Sum = Total  Restaurants + Total Joints + Other Venues.} This algorithm although is pretty straightforward yet is strongly powerful. \n",
    "\n",
    "### Results:\n",
    "#### Based on this analysis, the best recommended neighborhood will be:\n",
    "#### {'Neighborhood': 'Agincourt',\n",
    "#### 'Postal Code': 'M1S',\n",
    "#### 'Neighborhood Latitude': 43.7942003,\n",
    "#### 'Neighborhood Longitude': -79.26202940000002}\n"
   ]
  },
  {
   "cell_type": "code",
   "execution_count": null,
   "metadata": {},
   "outputs": [],
   "source": []
  }
 ],
 "metadata": {
  "kernelspec": {
   "display_name": "Python 3",
   "language": "python",
   "name": "python3"
  },
  "language_info": {
   "codemirror_mode": {
    "name": "ipython",
    "version": 3
   },
   "file_extension": ".py",
   "mimetype": "text/x-python",
   "name": "python",
   "nbconvert_exporter": "python",
   "pygments_lexer": "ipython3",
   "version": "3.6.6"
  }
 },
 "nbformat": 4,
 "nbformat_minor": 2
}
