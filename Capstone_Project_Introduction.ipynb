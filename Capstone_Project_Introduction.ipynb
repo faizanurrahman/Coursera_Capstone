{
  "nbformat": 4,
  "nbformat_minor": 0,
  "metadata": {
    "colab": {
      "name": "Capstone Project Introduction.ipynb",
      "version": "0.3.2",
      "provenance": [],
      "collapsed_sections": []
    },
    "kernelspec": {
      "display_name": "Python 3",
      "language": "python",
      "name": "python3"
    }
  },
  "cells": [
    {
      "metadata": {
        "id": "csADFPFYVElP",
        "colab_type": "text"
      },
      "cell_type": "markdown",
      "source": [
        "# Food recipes distribution system for venues"
      ]
    },
    {
      "metadata": {
        "id": "aQ7lecAqVElT",
        "colab_type": "text"
      },
      "cell_type": "markdown",
      "source": [
        "## Part 1: Problem Description\n",
        "#### There is a Food recipes distributer in one of the boroughs of Toronto (Scarborough). This distributer provides services for different venues  such as: Different types of Restaurants, Bakery, Breakfast Spot, newly started food center and Café with fresh and high-quality recipes. The distributer  wants to build a warehouse for the recipes it buys from villagers and farmers inside the borough, so that they will support more customers and also bring better \"Quality of Service\" to the old customers. \n",
        "#### For example, if the warehouse is close to those old and famous restaurants, then the vegetables and other recipes would be delivered to the restaurant in the right time and there would be no delay so the restaurant cooks can start their job from the morning and the Quality of Service will be high and this distributer will gain more reputation and income.\n",
        "### The distributer should build this warehouse where it is closest to its customers in order to minimize the cost of transpotation in addition to the example above. which neighborhood (in that borough) would be a better choice for the distributer to build the warehouse in that neighborhood. Finding the right neighborhood is our mission and our distribution system will provide this distributor with a sorted list of neighborhoods in which the first elemnt of the list will be the best suggested neighborhood.\n"
      ]
    },
    {
      "metadata": {
        "id": "LMJFQVS1VElW",
        "colab_type": "text"
      },
      "cell_type": "markdown",
      "source": [
        "## Part 2: Data Requirement\n",
        "#### 1- We will need geo-locational information about that specific borough and the neighborhoods in that borough. We specifically and technically mean the latitude and longitude numbers of that borough. We assume that it is \"Scarborough\" in Toronto. This is easily provided for us by the distributor, because the distributor has already made up his mind about the borough. The Postal Codes that fall into that borough (Scarborough) would also be sufficient fo us. I fact we will first find neighborhoods inside Scarborough by their corresponding Postal Codes.\n",
        "\n",
        "#### 2- We will need data about different venues in different neighborhoods of that specific borough. In order to gain that information we will use \"Foursquare\" locational information. By locational information for each venue we mean basic and advanced information about that venue. For example there is a venue in one of the neighborhoods. As basic information, we can obtain its precise latitude and longitude and also its distance from the center of the neighborhood. But we are looking for advanced information such as the category of that venue and whether this venue is a popular one in its category or maybe the average price of the services of this venue. A typical request from Foursquare will provide us with  the following information:\n",
        "-  Postal Code\n",
        "-  Neighborhood(s)\n",
        "-  Neighborhood Latitude\n",
        "-  Neighborhood Longitude\n",
        "-  Venue\n",
        "-  Venue Summary\n",
        "-  Venue Category\n",
        "\n"
      ]
    },
    {
      "metadata": {
        "id": "_IeZKemjVElZ",
        "colab_type": "code",
        "colab": {}
      },
      "cell_type": "code",
      "source": [
        ""
      ],
      "execution_count": 0,
      "outputs": []
    }
  ]
}